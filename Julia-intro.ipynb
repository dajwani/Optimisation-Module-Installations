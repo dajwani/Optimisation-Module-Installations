{
 "cells": [
  {
   "cell_type": "markdown",
   "id": "e1f2bcc0",
   "metadata": {},
   "source": [
    "# Intro to Jupyter Notebook"
   ]
  },
  {
   "cell_type": "markdown",
   "id": "ab1f7255",
   "metadata": {},
   "source": [
    "**Double click me!**\n",
    "\n",
    "This is a *text cell* where you can type comments and explanations. You can add list, embed links, change fonts here. The syntax used is called [Markdown](https://www.markdownguide.org/basic-syntax/). You can make changes to the *text cell* by double clicking it. When done editing, you can click on 'Run' or press 'Ctrl+Enter'."
   ]
  },
  {
   "cell_type": "code",
   "execution_count": 1,
   "id": "445c4f43",
   "metadata": {},
   "outputs": [
    {
     "data": {
      "text/plain": [
       "3"
      ]
     },
     "execution_count": 1,
     "metadata": {},
     "output_type": "execute_result"
    }
   ],
   "source": [
    "# This is a code cell\n",
    "# You codes go here.\n",
    "# If you want to run your code, click on 'Run' or press 'Ctrl+Enter'\n",
    "\n",
    "# Now, click on 'Run'. And you'll see the output beneath this cell\n",
    "1 + 2"
   ]
  },
  {
   "cell_type": "code",
   "execution_count": 2,
   "id": "72d8b9dd",
   "metadata": {},
   "outputs": [],
   "source": [
    "# like Python, the sentences starting with a pound/hash key (#) are comments\n",
    "# Thus you won't see any return if you run this cell\n",
    "# 1 + 2"
   ]
  },
  {
   "cell_type": "code",
   "execution_count": 3,
   "id": "e5fa1476",
   "metadata": {},
   "outputs": [],
   "source": [
    "#=\n",
    "\n",
    "Unlike Python\n",
    "the multi-line comments \n",
    "use the '#= =#' sequence\n",
    "\n",
    "=#"
   ]
  },
  {
   "cell_type": "markdown",
   "id": "509a02b2",
   "metadata": {},
   "source": [
    "To add more cells, click on '+' sign in the menu on top. Or you can click on 'Insert' then choose 'Insert cell Above/Below'"
   ]
  },
  {
   "cell_type": "markdown",
   "id": "098fd969",
   "metadata": {},
   "source": [
    "# Intro to Julia"
   ]
  },
  {
   "cell_type": "markdown",
   "id": "9e46be1d",
   "metadata": {},
   "source": [
    "In Julia, we use `println()` to print. Now try to finish the next cell and print \"hello world\""
   ]
  },
  {
   "cell_type": "code",
   "execution_count": 4,
   "id": "317e0056",
   "metadata": {},
   "outputs": [
    {
     "ename": "LoadError",
     "evalue": "syntax: invalid identifier name \"...\"",
     "output_type": "error",
     "traceback": [
      "syntax: invalid identifier name \"...\"",
      "",
      "Stacktrace:",
      " [1] top-level scope",
      "   @ In[4]:2",
      " [2] eval",
      "   @ .\\boot.jl:360 [inlined]",
      " [3] include_string(mapexpr::typeof(REPL.softscope), mod::Module, code::String, filename::String)",
      "   @ Base .\\loading.jl:1116"
     ]
    }
   ],
   "source": [
    "# finish the code below to print out \"hello world\"\n",
    "println(...)"
   ]
  },
  {
   "cell_type": "code",
   "execution_count": 5,
   "id": "45aec079",
   "metadata": {},
   "outputs": [
    {
     "name": "stdout",
     "output_type": "stream",
     "text": [
      "hello world\n"
     ]
    }
   ],
   "source": [
    "# Answer\n",
    "println(\"hello world\")"
   ]
  },
  {
   "cell_type": "markdown",
   "id": "32ac7db8",
   "metadata": {},
   "source": [
    "Assign variables"
   ]
  },
  {
   "cell_type": "code",
   "execution_count": 6,
   "id": "519c3d96",
   "metadata": {},
   "outputs": [
    {
     "data": {
      "text/plain": [
       "Int64"
      ]
     },
     "execution_count": 6,
     "metadata": {},
     "output_type": "execute_result"
    }
   ],
   "source": [
    "var1 = 50\n",
    "typeof(var1)"
   ]
  },
  {
   "cell_type": "code",
   "execution_count": 7,
   "id": "b0e3b3b0",
   "metadata": {},
   "outputs": [
    {
     "data": {
      "text/plain": [
       "Float64"
      ]
     },
     "execution_count": 7,
     "metadata": {},
     "output_type": "execute_result"
    }
   ],
   "source": [
    "var2 = 3.14\n",
    "typeof(var2)"
   ]
  },
  {
   "cell_type": "code",
   "execution_count": 8,
   "id": "518ac4af",
   "metadata": {},
   "outputs": [
    {
     "data": {
      "text/plain": [
       "String"
      ]
     },
     "execution_count": 8,
     "metadata": {},
     "output_type": "execute_result"
    }
   ],
   "source": [
    "var3 = \"hi!\"\n",
    "typeof(var3)"
   ]
  },
  {
   "cell_type": "markdown",
   "id": "365f0575",
   "metadata": {},
   "source": [
    "Basic math syntax"
   ]
  },
  {
   "cell_type": "code",
   "execution_count": 9,
   "id": "bc40c888",
   "metadata": {},
   "outputs": [
    {
     "name": "stdout",
     "output_type": "stream",
     "text": [
      "10\n",
      "21\n",
      "3.0\n",
      "8\n",
      "1\n"
     ]
    }
   ],
   "source": [
    "a = 3 + 7 # sum\n",
    "b = 3 * 7 # product\n",
    "c = 9 / 3 # quotient\n",
    "d = 2 ^ 3 # power. Note, this is different from Python 2**3\n",
    "e = 9 % 2 # modulus\n",
    "println(a)\n",
    "println(b)\n",
    "println(c)\n",
    "println(d)\n",
    "println(e)"
   ]
  },
  {
   "cell_type": "markdown",
   "id": "bd0db66c",
   "metadata": {},
   "source": [
    "You can use `convert(Type, variable)` function to convert data types which are of the same basic kinds (e.g., numerical data types). See [here](https://docs.julialang.org/en/v1/base/numbers/) for more details of the numeric types in Julia."
   ]
  },
  {
   "cell_type": "code",
   "execution_count": 10,
   "id": "0d54af18",
   "metadata": {},
   "outputs": [
    {
     "data": {
      "text/plain": [
       "Int64"
      ]
     },
     "execution_count": 10,
     "metadata": {},
     "output_type": "execute_result"
    }
   ],
   "source": [
    "x = 12\n",
    "typeof(x)"
   ]
  },
  {
   "cell_type": "code",
   "execution_count": 11,
   "id": "d67e7e34",
   "metadata": {},
   "outputs": [
    {
     "data": {
      "text/plain": [
       "12.0"
      ]
     },
     "execution_count": 11,
     "metadata": {},
     "output_type": "execute_result"
    }
   ],
   "source": [
    "convert(Float64, x)"
   ]
  },
  {
   "cell_type": "code",
   "execution_count": 12,
   "id": "067968b1",
   "metadata": {},
   "outputs": [
    {
     "data": {
      "text/plain": [
       "0x0c"
      ]
     },
     "execution_count": 12,
     "metadata": {},
     "output_type": "execute_result"
    }
   ],
   "source": [
    "convert(UInt8, x)"
   ]
  },
  {
   "cell_type": "code",
   "execution_count": 13,
   "id": "c26ca5f1",
   "metadata": {},
   "outputs": [
    {
     "ename": "LoadError",
     "evalue": "MethodError: \u001b[0mCannot `convert` an object of type \u001b[92mInt64\u001b[39m\u001b[0m to an object of type \u001b[91mString\u001b[39m\n\u001b[0mClosest candidates are:\n\u001b[0m  convert(::Type{String}, \u001b[91m::String\u001b[39m) at essentials.jl:210\n\u001b[0m  convert(::Type{T}, \u001b[91m::T\u001b[39m) where T<:AbstractString at strings/basic.jl:231\n\u001b[0m  convert(::Type{T}, \u001b[91m::AbstractString\u001b[39m) where T<:AbstractString at strings/basic.jl:232\n\u001b[0m  ...",
     "output_type": "error",
     "traceback": [
      "MethodError: \u001b[0mCannot `convert` an object of type \u001b[92mInt64\u001b[39m\u001b[0m to an object of type \u001b[91mString\u001b[39m\n\u001b[0mClosest candidates are:\n\u001b[0m  convert(::Type{String}, \u001b[91m::String\u001b[39m) at essentials.jl:210\n\u001b[0m  convert(::Type{T}, \u001b[91m::T\u001b[39m) where T<:AbstractString at strings/basic.jl:231\n\u001b[0m  convert(::Type{T}, \u001b[91m::AbstractString\u001b[39m) where T<:AbstractString at strings/basic.jl:232\n\u001b[0m  ...",
      "",
      "Stacktrace:",
      " [1] top-level scope",
      "   @ In[13]:3",
      " [2] eval",
      "   @ .\\boot.jl:360 [inlined]",
      " [3] include_string(mapexpr::typeof(REPL.softscope), mod::Module, code::String, filename::String)",
      "   @ Base .\\loading.jl:1116"
     ]
    }
   ],
   "source": [
    "# convert() cannot be used to any data type (e.g., number -> string)\n",
    "# you will see a 'MethodError' when you run this cell\n",
    "convert(String, x)"
   ]
  },
  {
   "cell_type": "code",
   "execution_count": 14,
   "id": "6ccff8aa",
   "metadata": {},
   "outputs": [
    {
     "data": {
      "text/plain": [
       "12"
      ]
     },
     "execution_count": 14,
     "metadata": {},
     "output_type": "execute_result"
    }
   ],
   "source": [
    "# convert() only returns a new collection\n",
    "# Thus the original x has not been changed by the convert() function\n",
    "x "
   ]
  }
 ],
 "metadata": {
  "kernelspec": {
   "display_name": "Julia 1.6.2",
   "language": "julia",
   "name": "julia-1.6"
  },
  "language_info": {
   "file_extension": ".jl",
   "mimetype": "application/julia",
   "name": "julia",
   "version": "1.6.2"
  },
  "toc": {
   "base_numbering": 1,
   "nav_menu": {},
   "number_sections": true,
   "sideBar": true,
   "skip_h1_title": false,
   "title_cell": "Table of Contents",
   "title_sidebar": "Contents",
   "toc_cell": false,
   "toc_position": {},
   "toc_section_display": true,
   "toc_window_display": false
  },
  "varInspector": {
   "cols": {
    "lenName": 16,
    "lenType": 16,
    "lenVar": 40
   },
   "kernels_config": {
    "python": {
     "delete_cmd_postfix": "",
     "delete_cmd_prefix": "del ",
     "library": "var_list.py",
     "varRefreshCmd": "print(var_dic_list())"
    },
    "r": {
     "delete_cmd_postfix": ") ",
     "delete_cmd_prefix": "rm(",
     "library": "var_list.r",
     "varRefreshCmd": "cat(var_dic_list()) "
    }
   },
   "types_to_exclude": [
    "module",
    "function",
    "builtin_function_or_method",
    "instance",
    "_Feature"
   ],
   "window_display": false
  }
 },
 "nbformat": 4,
 "nbformat_minor": 5
}
