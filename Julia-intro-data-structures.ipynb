{
 "cells": [
  {
   "cell_type": "markdown",
   "id": "cdf0848c",
   "metadata": {},
   "source": [
    "# Data structures"
   ]
  },
  {
   "cell_type": "markdown",
   "id": "63c4dfd0",
   "metadata": {},
   "source": [
    "## Tuples\n",
    "*Tuples* are ordered data structures that enclose elements in the brackets ( ). They are immutable (cannot be changed once defined). You can create a tuple in this way:\n",
    "> (item1, item2, item3)"
   ]
  },
  {
   "cell_type": "code",
   "execution_count": 1,
   "id": "2837ecd9",
   "metadata": {},
   "outputs": [
    {
     "name": "stdout",
     "output_type": "stream",
     "text": [
      "Tuple{String, String, String}\n",
      "Tuple{Int64, Int64}\n"
     ]
    }
   ],
   "source": [
    "# Below are examples of tuples\n",
    "subjects = (\"computer science\", \"engineering\", \"math\")\n",
    "numbers = (178, 64)\n",
    "println(typeof(subjects))\n",
    "println(typeof(numbers))"
   ]
  },
  {
   "cell_type": "markdown",
   "id": "2292d70f",
   "metadata": {},
   "source": [
    "We can inquire specific element by indexing (*Note the index starts from 1 instead of 0*). The syntax is:\n",
    "> variable[index]"
   ]
  },
  {
   "cell_type": "code",
   "execution_count": 2,
   "id": "bac4fadf",
   "metadata": {},
   "outputs": [
    {
     "data": {
      "text/plain": [
       "\"computer science\""
      ]
     },
     "execution_count": 2,
     "metadata": {},
     "output_type": "execute_result"
    }
   ],
   "source": [
    "subjects[1]"
   ]
  },
  {
   "cell_type": "code",
   "execution_count": 3,
   "id": "88912b4c",
   "metadata": {},
   "outputs": [
    {
     "data": {
      "text/plain": [
       "64"
      ]
     },
     "execution_count": 3,
     "metadata": {},
     "output_type": "execute_result"
    }
   ],
   "source": [
    "numbers[2]"
   ]
  },
  {
   "cell_type": "code",
   "execution_count": 4,
   "id": "4147b832",
   "metadata": {},
   "outputs": [
    {
     "ename": "LoadError",
     "evalue": "BoundsError: attempt to access Tuple{String, String, String} at index [0]",
     "output_type": "error",
     "traceback": [
      "BoundsError: attempt to access Tuple{String, String, String} at index [0]",
      "",
      "Stacktrace:",
      " [1] getindex(t::Tuple, i::Int64)",
      "   @ Base .\\tuple.jl:29",
      " [2] top-level scope",
      "   @ In[4]:3",
      " [3] eval",
      "   @ .\\boot.jl:360 [inlined]",
      " [4] include_string(mapexpr::typeof(REPL.softscope), mod::Module, code::String, filename::String)",
      "   @ Base .\\loading.jl:1116"
     ]
    }
   ],
   "source": [
    "# The index starts from 1 instead of 0\n",
    "# You will see an error if you use the index of 0\n",
    "subjects[0]"
   ]
  },
  {
   "cell_type": "code",
   "execution_count": 5,
   "id": "e4b96f46",
   "metadata": {},
   "outputs": [
    {
     "ename": "LoadError",
     "evalue": "MethodError: no method matching setindex!(::Tuple{String, String, String}, ::String, ::Int64)",
     "output_type": "error",
     "traceback": [
      "MethodError: no method matching setindex!(::Tuple{String, String, String}, ::String, ::Int64)",
      "",
      "Stacktrace:",
      " [1] top-level scope",
      "   @ In[5]:3",
      " [2] eval",
      "   @ .\\boot.jl:360 [inlined]",
      " [3] include_string(mapexpr::typeof(REPL.softscope), mod::Module, code::String, filename::String)",
      "   @ Base .\\loading.jl:1116"
     ]
    }
   ],
   "source": [
    "# Tuples are immutable\n",
    "# You will see a 'MethodError' if you attempt to change the elements in a defined tuple\n",
    "subjects[1] = \"English\""
   ]
  },
  {
   "cell_type": "markdown",
   "id": "21ba765f",
   "metadata": {},
   "source": [
    "### NamedTuples\n",
    "*NamedTuples* are just like tuples. They are created with paired values. They are ordered and immutable. You can create NamedTuples using the below syntax:\n",
    "> (name1 = item1, name2 = item2, ...)"
   ]
  },
  {
   "cell_type": "code",
   "execution_count": 6,
   "id": "a799af2b",
   "metadata": {},
   "outputs": [
    {
     "name": "stdout",
     "output_type": "stream",
     "text": [
      "NamedTuple{(:COMP, :EEEN, :STAT), Tuple{String, String, String}}\n",
      "NamedTuple{(:height, :weight), Tuple{Int64, Int64}}\n"
     ]
    }
   ],
   "source": [
    "subject_names = (COMP = \"computer science\", EEEN = \"electronic and electrical engineering\", STAT = \"statistics\")\n",
    "personal_info = (height = 178, weight = 64)\n",
    "println(typeof(subject_names))\n",
    "println(typeof(personal_info))"
   ]
  },
  {
   "cell_type": "markdown",
   "id": "ce5a5491",
   "metadata": {},
   "source": [
    "In addition to indexing, you can access values by calling the name of an item (using `.name`)\n",
    "> if variable = (name1 = item1, name2 = item2, ...), calling `variable.name1` will return 'item1'"
   ]
  },
  {
   "cell_type": "code",
   "execution_count": 7,
   "id": "b1d38a5a",
   "metadata": {},
   "outputs": [
    {
     "name": "stdout",
     "output_type": "stream",
     "text": [
      "computer science\n",
      "computer science\n"
     ]
    }
   ],
   "source": [
    "println(subject_names[1])\n",
    "println(subject_names.COMP)"
   ]
  },
  {
   "cell_type": "code",
   "execution_count": 8,
   "id": "48d6f6be",
   "metadata": {},
   "outputs": [
    {
     "name": "stdout",
     "output_type": "stream",
     "text": [
      "64\n",
      "64\n"
     ]
    }
   ],
   "source": [
    "println(personal_info[2])\n",
    "println(personal_info.weight)"
   ]
  },
  {
   "cell_type": "markdown",
   "id": "3645a8b4",
   "metadata": {},
   "source": [
    "## Dictionaries\n",
    "*Dictionaries* store data as 'key-value' pairs. You can create a dictionary using the `Dict()` function and using `=>` to connect each 'key' and 'value'. \n",
    "> Dict(key1 => value1, key2 => value2, ...)\n",
    "\n",
    "Dictionaries are mutable. Therefore sometimes we create an empty dictionary first and populate the key-value pairs into this dictionary later. However, the dictionary entries are not ordered."
   ]
  },
  {
   "cell_type": "code",
   "execution_count": 9,
   "id": "934e5cbd",
   "metadata": {},
   "outputs": [
    {
     "name": "stdout",
     "output_type": "stream",
     "text": [
      "Dict(\"Ireland\" => \"353\", \"United Kingdom\" => \"44\", \"United States\" => \"1\")\n",
      "Dict{String, String}"
     ]
    }
   ],
   "source": [
    "country_code = Dict(\"Ireland\" => \"353\", \"United Kingdom\" => \"44\", \"United States\" => \"1\")\n",
    "println(country_code)\n",
    "print(typeof(country_code))"
   ]
  },
  {
   "cell_type": "markdown",
   "id": "11d1af74",
   "metadata": {},
   "source": [
    "Inquire a value by calling the corresponding key using [ ]:\n",
    "> country_code[\"Ireland\"] "
   ]
  },
  {
   "cell_type": "code",
   "execution_count": 10,
   "id": "8850f802",
   "metadata": {},
   "outputs": [
    {
     "name": "stdout",
     "output_type": "stream",
     "text": [
      "353\n",
      "44\n"
     ]
    }
   ],
   "source": [
    "println(country_code[\"Ireland\"])\n",
    "println(country_code[\"United Kingdom\"])"
   ]
  },
  {
   "cell_type": "code",
   "execution_count": 11,
   "id": "05c994b3",
   "metadata": {},
   "outputs": [
    {
     "ename": "LoadError",
     "evalue": "KeyError: key 0 not found",
     "output_type": "error",
     "traceback": [
      "KeyError: key 0 not found",
      "",
      "Stacktrace:",
      " [1] getindex(h::Dict{String, String}, key::Int64)",
      "   @ Base .\\dict.jl:482",
      " [2] top-level scope",
      "   @ In[11]:6",
      " [3] eval",
      "   @ .\\boot.jl:360 [inlined]",
      " [4] include_string(mapexpr::typeof(REPL.softscope), mod::Module, code::String, filename::String)",
      "   @ Base .\\loading.jl:1116"
     ]
    }
   ],
   "source": [
    "# Dictionary is not ordered\n",
    "# Therefore you cannot use index to inquire the values\n",
    "\n",
    "# In the example below, Julia will try to look for keys of '0'\n",
    "# if there is no entry with '0' as the key, a 'KeyError' will be raised\n",
    "country_code[0]"
   ]
  },
  {
   "cell_type": "markdown",
   "id": "0a7ed762",
   "metadata": {},
   "source": [
    "Add a new entry to the dictionary"
   ]
  },
  {
   "cell_type": "code",
   "execution_count": 12,
   "id": "d83d77d4",
   "metadata": {},
   "outputs": [
    {
     "data": {
      "text/plain": [
       "\"41\""
      ]
     },
     "execution_count": 12,
     "metadata": {},
     "output_type": "execute_result"
    }
   ],
   "source": [
    "# Add a new entry with key as \"Switzerland\" and value as \"41\"\n",
    "country_code[\"Switzerland\"] = \"41\""
   ]
  },
  {
   "cell_type": "code",
   "execution_count": 13,
   "id": "b4a544cb",
   "metadata": {},
   "outputs": [
    {
     "data": {
      "text/plain": [
       "Dict{String, String} with 4 entries:\n",
       "  \"Switzerland\"    => \"41\"\n",
       "  \"Ireland\"        => \"353\"\n",
       "  \"United Kingdom\" => \"44\"\n",
       "  \"United States\"  => \"1\""
      ]
     },
     "execution_count": 13,
     "metadata": {},
     "output_type": "execute_result"
    }
   ],
   "source": [
    "# Run this cell to check whether the country_code has been updated\n",
    "# You should see a new entry\n",
    "country_code"
   ]
  },
  {
   "cell_type": "markdown",
   "id": "6d1a7a99",
   "metadata": {},
   "source": [
    "We can also remove entries using the `pop!()` method. `pop!()` will make in-place changes to the original collection and at the same time return the removed entry once called. The usage looks like this:\n",
    "> pop!(collection, key)"
   ]
  },
  {
   "cell_type": "code",
   "execution_count": 14,
   "id": "9f05818e",
   "metadata": {},
   "outputs": [
    {
     "data": {
      "text/plain": [
       "\"44\""
      ]
     },
     "execution_count": 14,
     "metadata": {},
     "output_type": "execute_result"
    }
   ],
   "source": [
    "# Now we are removing the entry of \"United Kingdom\" and its corresponding country code \"44\"\n",
    "# You'll see a return of \"44\" once pop!() is called\n",
    "pop!(country_code, \"United Kingdom\")"
   ]
  },
  {
   "cell_type": "code",
   "execution_count": 15,
   "id": "74af2261",
   "metadata": {},
   "outputs": [
    {
     "data": {
      "text/plain": [
       "Dict{String, String} with 3 entries:\n",
       "  \"Switzerland\"   => \"41\"\n",
       "  \"Ireland\"       => \"353\"\n",
       "  \"United States\" => \"1\""
      ]
     },
     "execution_count": 15,
     "metadata": {},
     "output_type": "execute_result"
    }
   ],
   "source": [
    "# Let's now check what's in the dictionary\n",
    "country_code"
   ]
  },
  {
   "cell_type": "markdown",
   "id": "023ad1dc",
   "metadata": {},
   "source": [
    "## Arrays\n",
    "*Arrays* are mutable and ordered. They are created using [ ]:\n",
    "> [item1, item2, ...]"
   ]
  },
  {
   "cell_type": "code",
   "execution_count": 16,
   "id": "15ec5c88",
   "metadata": {},
   "outputs": [
    {
     "data": {
      "text/plain": [
       "5-element Vector{Int64}:\n",
       "  2\n",
       "  5\n",
       "  6\n",
       "  9\n",
       " 11"
      ]
     },
     "execution_count": 16,
     "metadata": {},
     "output_type": "execute_result"
    }
   ],
   "source": [
    "array1 = [2, 5, 6, 9, 11]"
   ]
  },
  {
   "cell_type": "code",
   "execution_count": 17,
   "id": "b73e2d5c",
   "metadata": {},
   "outputs": [
    {
     "data": {
      "text/plain": [
       "3-element Vector{Any}:\n",
       " 100\n",
       "    \"Shannon\"\n",
       "   5"
      ]
     },
     "execution_count": 17,
     "metadata": {},
     "output_type": "execute_result"
    }
   ],
   "source": [
    "# Arrays can have a mixture of data types\n",
    "array2 = [100, \"Shannon\", 5] "
   ]
  },
  {
   "cell_type": "code",
   "execution_count": 18,
   "id": "9ffd4e4e",
   "metadata": {},
   "outputs": [
    {
     "data": {
      "text/plain": [
       "3-element Vector{Vector{Int64}}:\n",
       " [1, 2, 3]\n",
       " [4, 5, 6]\n",
       " [7, 8, 9, 10]"
      ]
     },
     "execution_count": 18,
     "metadata": {},
     "output_type": "execute_result"
    }
   ],
   "source": [
    "# Arrays within an array\n",
    "array3 = [[1, 2, 3], [4, 5, 6], [7, 8, 9, 10]]"
   ]
  },
  {
   "cell_type": "markdown",
   "id": "c54839d6",
   "metadata": {},
   "source": [
    "The above examples are 1D arrays. Arrays can also be high dimensional. See examples below."
   ]
  },
  {
   "cell_type": "code",
   "execution_count": 19,
   "id": "f5cd9909",
   "metadata": {},
   "outputs": [
    {
     "data": {
      "text/plain": [
       "4×3 Matrix{Float64}:\n",
       " 0.624621  0.219061   0.472091\n",
       " 0.870583  0.151919   0.416041\n",
       " 0.722452  0.0177424  0.314812\n",
       " 0.557914  0.889537   0.790581"
      ]
     },
     "execution_count": 19,
     "metadata": {},
     "output_type": "execute_result"
    }
   ],
   "source": [
    "# Create a 4x3 2D array populated with random numbers\n",
    "rand(4, 3)"
   ]
  },
  {
   "cell_type": "code",
   "execution_count": 20,
   "id": "aaf0fb70",
   "metadata": {},
   "outputs": [
    {
     "data": {
      "text/plain": [
       "4×3×2 Array{Float64, 3}:\n",
       "[:, :, 1] =\n",
       " 0.110777  0.838146  0.809113\n",
       " 0.862393  0.629025  0.874307\n",
       " 0.894855  0.62273   0.803226\n",
       " 0.73761   0.472244  0.580592\n",
       "\n",
       "[:, :, 2] =\n",
       " 0.309588  0.874916  0.673131\n",
       " 0.525031  0.697708  0.612285\n",
       " 0.609569  0.297771  0.884104\n",
       " 0.450905  0.40135   0.810289"
      ]
     },
     "execution_count": 20,
     "metadata": {},
     "output_type": "execute_result"
    }
   ],
   "source": [
    "# Create a 4x3x2 3D array populated with random numbers\n",
    "rand(4, 3, 2)"
   ]
  },
  {
   "cell_type": "markdown",
   "id": "59f80a65",
   "metadata": {},
   "source": [
    "Adding an element to the end of an array can be done using `push!`. \n",
    "> push!(collection, value)"
   ]
  },
  {
   "cell_type": "code",
   "execution_count": 21,
   "id": "3e0a1f44",
   "metadata": {},
   "outputs": [
    {
     "data": {
      "text/plain": [
       "6-element Vector{Int64}:\n",
       "   2\n",
       "   5\n",
       "   6\n",
       "   9\n",
       "  11\n",
       " 100"
      ]
     },
     "execution_count": 21,
     "metadata": {},
     "output_type": "execute_result"
    }
   ],
   "source": [
    "push!(array1, 100)"
   ]
  },
  {
   "cell_type": "markdown",
   "id": "8956b8c1",
   "metadata": {},
   "source": [
    "Using `pop!` will remove *the last* element in an array *(note the use of `pop!()` is different from what we saw in the case of Dictionary as Array is an ordered data structure)* and return the last element\n",
    "> pop!(collection)"
   ]
  },
  {
   "cell_type": "code",
   "execution_count": 22,
   "id": "584e8225",
   "metadata": {},
   "outputs": [
    {
     "data": {
      "text/plain": [
       "100"
      ]
     },
     "execution_count": 22,
     "metadata": {},
     "output_type": "execute_result"
    }
   ],
   "source": [
    "pop!(array1) # you will only see the last element being as a return"
   ]
  },
  {
   "cell_type": "code",
   "execution_count": 23,
   "id": "4cefc3dc",
   "metadata": {},
   "outputs": [
    {
     "data": {
      "text/plain": [
       "5-element Vector{Int64}:\n",
       "  2\n",
       "  5\n",
       "  6\n",
       "  9\n",
       " 11"
      ]
     },
     "execution_count": 23,
     "metadata": {},
     "output_type": "execute_result"
    }
   ],
   "source": [
    "# Let's check whether the last element is removed\n",
    "array1"
   ]
  },
  {
   "cell_type": "markdown",
   "id": "391d1a9b",
   "metadata": {},
   "source": [
    "Be careful when you want to copy the arrays! Compare the differences between the two methods below:\n",
    "> new_array = array\n",
    "\n",
    "vs. \n",
    "\n",
    "> new_array = copy(array)"
   ]
  },
  {
   "cell_type": "code",
   "execution_count": 24,
   "id": "b5926af4",
   "metadata": {},
   "outputs": [
    {
     "data": {
      "text/plain": [
       "5-element Vector{Int64}:\n",
       "  2\n",
       "  5\n",
       "  6\n",
       "  9\n",
       " 11"
      ]
     },
     "execution_count": 24,
     "metadata": {},
     "output_type": "execute_result"
    }
   ],
   "source": [
    "array_new = array1\n",
    "array_new"
   ]
  },
  {
   "cell_type": "code",
   "execution_count": 25,
   "id": "cd720b20",
   "metadata": {},
   "outputs": [
    {
     "name": "stdout",
     "output_type": "stream",
     "text": [
      "\n",
      "Current array_copy1 is:\n",
      "[2, 5, 6, 9]\n",
      "\n",
      "Current array1 is:\n",
      "[2, 5, 6, 9]\n"
     ]
    }
   ],
   "source": [
    "# Do something to the new array\n",
    "pop!(array_new)\n",
    "\n",
    "# The original array is also changed!\n",
    "println(\"\\nCurrent array_copy1 is:\")\n",
    "println(array_new)\n",
    "println(\"\\nCurrent array1 is:\")\n",
    "println(array1)"
   ]
  },
  {
   "cell_type": "markdown",
   "id": "35e92fee",
   "metadata": {},
   "source": [
    "Use `copy()` if you don't want to change the original array"
   ]
  },
  {
   "cell_type": "code",
   "execution_count": 26,
   "id": "ceb433cb",
   "metadata": {},
   "outputs": [
    {
     "data": {
      "text/plain": [
       "5-element Vector{Int64}:\n",
       "  2\n",
       "  5\n",
       "  6\n",
       "  9\n",
       " 11"
      ]
     },
     "execution_count": 26,
     "metadata": {},
     "output_type": "execute_result"
    }
   ],
   "source": [
    "# restore array1 to its original value\n",
    "array1 = [2, 5, 6, 9, 11] \n",
    "array_copy = copy(array1)\n",
    "array_copy"
   ]
  },
  {
   "cell_type": "code",
   "execution_count": 27,
   "id": "314705fd",
   "metadata": {},
   "outputs": [
    {
     "name": "stdout",
     "output_type": "stream",
     "text": [
      "[2, 5, 6, 9]\n",
      "[2, 5, 6, 9, 11]\n"
     ]
    }
   ],
   "source": [
    "# Do something to the new list\n",
    "pop!(array_copy)\n",
    "\n",
    "# Let's check if the original list is changed\n",
    "println(array_copy)\n",
    "println(array1)"
   ]
  }
 ],
 "metadata": {
  "kernelspec": {
   "display_name": "Julia 1.6.2",
   "language": "julia",
   "name": "julia-1.6"
  },
  "language_info": {
   "file_extension": ".jl",
   "mimetype": "application/julia",
   "name": "julia",
   "version": "1.6.2"
  },
  "toc": {
   "base_numbering": 1,
   "nav_menu": {},
   "number_sections": true,
   "sideBar": true,
   "skip_h1_title": false,
   "title_cell": "Table of Contents",
   "title_sidebar": "Contents",
   "toc_cell": false,
   "toc_position": {},
   "toc_section_display": true,
   "toc_window_display": false
  },
  "varInspector": {
   "cols": {
    "lenName": 16,
    "lenType": 16,
    "lenVar": 40
   },
   "kernels_config": {
    "python": {
     "delete_cmd_postfix": "",
     "delete_cmd_prefix": "del ",
     "library": "var_list.py",
     "varRefreshCmd": "print(var_dic_list())"
    },
    "r": {
     "delete_cmd_postfix": ") ",
     "delete_cmd_prefix": "rm(",
     "library": "var_list.r",
     "varRefreshCmd": "cat(var_dic_list()) "
    }
   },
   "types_to_exclude": [
    "module",
    "function",
    "builtin_function_or_method",
    "instance",
    "_Feature"
   ],
   "window_display": false
  }
 },
 "nbformat": 4,
 "nbformat_minor": 5
}
